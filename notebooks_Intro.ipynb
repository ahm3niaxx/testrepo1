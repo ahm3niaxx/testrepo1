{
  "metadata": {
    "kernelspec": {
      "name": "python",
      "display_name": "Python (Pyodide)",
      "language": "python"
    },
    "language_info": {
      "codemirror_mode": {
        "name": "python",
        "version": 3
      },
      "file_extension": ".py",
      "mimetype": "text/x-python",
      "name": "python",
      "nbconvert_exporter": "python",
      "pygments_lexer": "ipython3",
      "version": "3.8"
    }
  },
  "nbformat_minor": 5,
  "nbformat": 4,
  "cells": [
    {
      "cell_type": "markdown",
      "source": "# \"My Jupyter Notebook on IBM Watson Studio\"",
      "metadata": {},
      "id": "77772c1e-b31d-4631-9004-51092602659c"
    },
    {
      "cell_type": "markdown",
      "source": "**Ahmed**\n\nData Science",
      "metadata": {},
      "id": "bc4d6591-464c-422c-87d2-8bf1102fad96"
    },
    {
      "cell_type": "markdown",
      "source": "*I am interested in data science because I think of it as puzzle. I love puzzles and solving problems via puttting you crytical thinking and analytical skills at work. Inquiring data from places and squeeze it up to make it more simple and available to everyone seems like helping others and I love it.*",
      "metadata": {},
      "id": "0ca3823a-6234-40e6-bebf-2200bbdb59d4"
    },
    {
      "cell_type": "markdown",
      "source": "### Below my code will do simple algebric sum as a demonstration",
      "metadata": {},
      "id": "dd6a46c4-ea37-4c2b-8211-6ea39c7990b8"
    },
    {
      "cell_type": "code",
      "source": "(5+1-3)*(7/6)",
      "metadata": {
        "trusted": true
      },
      "execution_count": 9,
      "outputs": [
        {
          "execution_count": 9,
          "output_type": "execute_result",
          "data": {
            "text/plain": "3.5"
          },
          "metadata": {}
        }
      ],
      "id": "308e1857-d70e-4275-b3a1-01267859f436"
    },
    {
      "cell_type": "markdown",
      "source": "1. First ordered list item\n2. [click here to visit \"google\"](https://www.google.com)\n* Unordered sub-list. \n1. Actual numbers don't matter, just that it's a number\n1. Ordered sub-list\n4.  <dt>Markdown in HTML</dt>\n<dd>Does *not* work **very** well. Use HTML <em>tags</em>.</dd>\n</dl>",
      "metadata": {},
      "id": "5cfbf4ca-f7a7-45ad-93d9-2ae27bb15dd5"
    },
    {
      "cell_type": "code",
      "source": "",
      "metadata": {},
      "execution_count": null,
      "outputs": [],
      "id": "ed587bf1-7bea-4f45-85c6-ea8a1e4c1c54"
    }
  ]
}